{
 "cells": [
  {
   "cell_type": "code",
   "execution_count": 1,
   "id": "1a6667cf",
   "metadata": {},
   "outputs": [],
   "source": [
    "class S:\n",
    "    def __init__(self, tchild, uchild):\n",
    "        self.t = tchild\n",
    "        self.u = uchild\n",
    "    \n",
    "    def __repr__(self):\n",
    "        print('S=', self.t, self.u)\n",
    "        return ''#self.t+self.u\n",
    "        \n",
    "class T:\n",
    "    def __init__(self, fchild, gchild):\n",
    "        self.f = fchild\n",
    "        self.g = gchild\n",
    "    def __repr__(self):\n",
    "        print('T=', self.f, self.g)\n",
    "        return ''#self.f+self.g\n",
    "         \n",
    "class U:\n",
    "    def __init__(self, tchild=None, uchild=None):\n",
    "        self.t = tchild\n",
    "        self.u = uchild\n",
    "    def __repr__(self):\n",
    "        print('U=', self.t, self.u)\n",
    "        return '' #self.t + self.u\n",
    "    \n",
    "class PositiveU(U):\n",
    "    def __init__(self, op, tchild, uchild):\n",
    "        super().__init__(tchild, uchild)\n",
    "        self.op = op\n",
    "    def __repr__(self):\n",
    "        print('positiveU=', self.op, self.t, self.u)\n",
    "        return ''\n",
    "\n",
    "\n",
    "class F: # -F , (S)\n",
    "    def __init__(self, child1):\n",
    "        self.child1 = child1\n",
    "    def __repr__(self):\n",
    "        print('F=', self.child1)\n",
    "        return ''\n",
    "\n",
    "class signF(F):\n",
    "    def __init__(self, sign, child1, sign2=None):\n",
    "        super().__init__(child1)\n",
    "        self.sign = sign\n",
    "        self.sign2 = sign2\n",
    "    def __repr__(self):\n",
    "        print('signF=', self.sign, self.child1, self.sign2)\n",
    "        return ''\n",
    "        \n",
    "class numF(F):\n",
    "    def __init__(self, num, child1):\n",
    "        super().__init__(child1)\n",
    "        self.num = num\n",
    "    def __repr__(self):\n",
    "        print('numF=', self.num, self.child1)\n",
    "        return ''\n",
    "        \n",
    "class G:\n",
    "    def __init__(self, fchild=None, gchild=None):\n",
    "        self.f = fchild\n",
    "        self.g = gchild\n",
    "    def __repr__(self):\n",
    "        print('G=', self.f, self.g)\n",
    "        return ''#self.f + self.g\n",
    "    \n",
    "class multipleG(G):\n",
    "    def __init__(self, op, fchild, gchild):\n",
    "        super().__init__(fchild, gchild)\n",
    "        self.op = op\n",
    "        \n",
    "    def __repr__(self):\n",
    "        print('multipleG=', self.op, self.f, self.g)\n",
    "        return ''#self.f + self.g"
   ]
  },
  {
   "cell_type": "code",
   "execution_count": 2,
   "id": "73525ea3",
   "metadata": {},
   "outputs": [],
   "source": [
    "def takeS(tokens): \n",
    "    t,tokens = takeT(tokens) \n",
    "    u,tokens = takeU(tokens)\n",
    "    return S(t, u),tokens\n",
    "    \n",
    "def takeT(tokens):\n",
    "    f,tokens = takeF(tokens)\n",
    "    g,tokens = takeG(tokens)\n",
    "    return T(f, g), tokens\n",
    "    \n",
    "def takeU(tokens):\n",
    "    if len(tokens)>0 and tokens[0] == '+':\n",
    "        op, tokens = takeIt('+',tokens)\n",
    "        t,tokens = takeT(tokens)\n",
    "        u,tokens = takeU(tokens)\n",
    "        return PositiveU('+', t, u),tokens\n",
    "    else: \n",
    "        return U(None,None), tokens \n",
    "\n",
    "def takeIt(tokenType, tokens):\n",
    "    if len(tokens)>0 and tokens[0]== tokenType:\n",
    "        op = tokens.pop(0)\n",
    "        return op,tokens\n",
    "    \n",
    "def takeF(tokens): \n",
    "    if len(tokens)>0 and tokens[0] == '-':\n",
    "        op, tokens = takeIt('-', tokens)\n",
    "        f,tokens = takeF(tokens)\n",
    "        return signF(op, f, None),tokens\n",
    "    \n",
    "    elif len(tokens)>0 and tokens[0] == '(':\n",
    "        op, tokens = takeIt('(',tokens)\n",
    "        s,tokens = takeS(tokens)\n",
    "        op2, tokens = takeIt(')',tokens)\n",
    "        return signF(op, s, op2), tokens\n",
    "    \n",
    "    else: # C\n",
    "        num, tokens = takeIt(tokens[0],tokens)\n",
    "        return numF(num, tokens), tokens\n",
    "\n",
    "def takeG(tokens):\n",
    "    if len(tokens)>0 and tokens[0] == '*':\n",
    "        op, tokens = takeIt('*',tokens)\n",
    "        f,tokens = takeF(tokens)\n",
    "        g,tokens = takeG(tokens)\n",
    "        return multipleG(op, f, g), tokens\n",
    "#     elif len(tokens)>0 and tokens[0] == ')':\n",
    "#         op, tokens = takeIt(')',tokens)\n",
    "#         return G(None,None), tokens\n",
    "    else:\n",
    "        return G(None,None), tokens\n",
    "    \n",
    "def tokenize(expStr):\n",
    "    import re\n",
    "    RE = re.compile(r'(?:(?<=[^\\d\\.])(?=\\d)|(?=[^\\d\\.]))', re.MULTILINE)\n",
    "    result = [x for x in re.sub(RE, \" \", expStr).split(\" \") if x]\n",
    "     \n",
    "    return result"
   ]
  },
  {
   "cell_type": "code",
   "execution_count": 3,
   "id": "4c38ac90",
   "metadata": {
    "scrolled": true
   },
   "outputs": [
    {
     "name": "stdout",
     "output_type": "stream",
     "text": [
      "-3*x+(7*21)\n",
      "S= T= signF= - numF= 3 []\n",
      " None\n",
      " multipleG= * numF= x []\n",
      " G= None None\n",
      "\n",
      "\n",
      " positiveU= + T= signF= ( S= T= numF= 7 []\n",
      " multipleG= * numF= 21 []\n",
      " G= None None\n",
      "\n",
      "\n",
      " U= None None\n",
      "\n",
      " )\n",
      " G= None None\n",
      "\n",
      " U= None None\n",
      "\n",
      "\n"
     ]
    },
    {
     "data": {
      "text/plain": [
       "(, [])"
      ]
     },
     "execution_count": 3,
     "metadata": {},
     "output_type": "execute_result"
    }
   ],
   "source": [
    "input1='-3*x+(7*21)'\n",
    "\n",
    "print(input1)\n",
    "stmt = takeS(tokenize(input1))\n",
    "stmt"
   ]
  },
  {
   "cell_type": "code",
   "execution_count": 285,
   "id": "47ce67bb",
   "metadata": {},
   "outputs": [
    {
     "data": {
      "text/plain": [
       "')'"
      ]
     },
     "execution_count": 285,
     "metadata": {},
     "output_type": "execute_result"
    }
   ],
   "source": [
    "stmt[0].u.t.f.sign2"
   ]
  }
 ],
 "metadata": {
  "kernelspec": {
   "display_name": "Python 3 (ipykernel)",
   "language": "python",
   "name": "python3"
  },
  "language_info": {
   "codemirror_mode": {
    "name": "ipython",
    "version": 3
   },
   "file_extension": ".py",
   "mimetype": "text/x-python",
   "name": "python",
   "nbconvert_exporter": "python",
   "pygments_lexer": "ipython3",
   "version": "3.9.7"
  }
 },
 "nbformat": 4,
 "nbformat_minor": 5
}
