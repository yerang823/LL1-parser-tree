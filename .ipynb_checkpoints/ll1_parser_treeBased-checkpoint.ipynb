{
 "cells": [
  {
   "cell_type": "code",
   "execution_count": 29,
   "id": "077b115d",
   "metadata": {},
   "outputs": [],
   "source": [
    "class A:\n",
    "    def __init__(self, a=1, b=2):\n",
    "        self.a = a\n",
    "        self.b = b\n",
    "    \n",
    "    def __repr__(self):\n",
    "        print(self.a, self.b)\n",
    "        return f'{self.a} {self.b}'"
   ]
  },
  {
   "cell_type": "code",
   "execution_count": 30,
   "id": "f55e0e7d",
   "metadata": {},
   "outputs": [],
   "source": [
    "a = A()"
   ]
  },
  {
   "cell_type": "code",
   "execution_count": 31,
   "id": "efd4f4d8",
   "metadata": {},
   "outputs": [
    {
     "name": "stdout",
     "output_type": "stream",
     "text": [
      "1 2\n"
     ]
    },
    {
     "data": {
      "text/plain": [
       "1 2"
      ]
     },
     "execution_count": 31,
     "metadata": {},
     "output_type": "execute_result"
    }
   ],
   "source": [
    "a"
   ]
  },
  {
   "cell_type": "code",
   "execution_count": 60,
   "id": "1a6667cf",
   "metadata": {},
   "outputs": [],
   "source": [
    "class S:\n",
    "    def __init__(self, tchild, uchild):\n",
    "        self.t = tchild\n",
    "        self.u = uchild\n",
    "    \n",
    "    def __repr__(self):\n",
    "        return f'{self.t} {self.u}'\n",
    "        \n",
    "class T:\n",
    "    def __init__(self, fchild, gchild):\n",
    "        self.f = fchild\n",
    "        self.g = gchild\n",
    "    def __repr__(self):\n",
    "#         print('T=', self.f, self.g)\n",
    "#         return ''#self.f+self.g\n",
    "        return f'{self.f} {self.g}'\n",
    "         \n",
    "class U:\n",
    "    def __init__(self, tchild=None, uchild=None):\n",
    "        self.t = tchild\n",
    "        self.u = uchild\n",
    "    def __repr__(self):\n",
    "#         print('U=', self.t, self.u)\n",
    "#         return '' #self.t + self.u\n",
    "        if not self.t and not self.u:\n",
    "            return ' '\n",
    "        elif not self.t:\n",
    "            return f'{self.u}'\n",
    "        elif not self.u:\n",
    "            return f'{self.t}'\n",
    "        elif self.t and self.u:\n",
    "            return f'{self.t} {self.u}'\n",
    "        \n",
    "    \n",
    "class PositiveU(U):\n",
    "    def __init__(self, op, tchild, uchild):\n",
    "        super().__init__(tchild, uchild)\n",
    "        self.op = op\n",
    "    def __repr__(self):\n",
    "#         print('positiveU=', self.op, self.t, self.u)\n",
    "#         return ''\n",
    "        return f'{self.op} {self.t} {self.u}'\n",
    "\n",
    "\n",
    "class F: # -F , (S)\n",
    "    def __init__(self, child1):\n",
    "        self.child1 = child1\n",
    "    def __repr__(self):\n",
    "#         print('F=', self.child1)\n",
    "#         return ''\n",
    "        return f'{self.child1}'\n",
    "        \n",
    "\n",
    "class signF(F):\n",
    "    def __init__(self, sign, child1, sign2=None):\n",
    "        super().__init__(child1)\n",
    "        self.sign = sign\n",
    "        self.sign2 = sign2\n",
    "    def __repr__(self):\n",
    "#         print('signF=', self.sign, self.child1, self.sign2)\n",
    "#         return ''\n",
    "        #return f'{self.sign} {self.child1} {self.sign2}'\n",
    "        if not self.sign2:\n",
    "            return f'{self.sign} {self.child1}'\n",
    "        else:\n",
    "            return f'{self.sign} {self.child1} {self.sign2}'\n",
    "        \n",
    "class numF:\n",
    "    def __init__(self, num):\n",
    "        self.num = num\n",
    "    def __repr__(self):\n",
    "#         print('numF=', self.num, self.child1)\n",
    "#         return ''\n",
    "        return f'{self.num}'\n",
    "        \n",
    "class G:\n",
    "    def __init__(self, fchild=None, gchild=None):\n",
    "        self.f = fchild\n",
    "        self.g = gchild\n",
    "    def __repr__(self):\n",
    "#         print('G=', self.f, self.g)\n",
    "#         return ''#self.f + self.g\n",
    "        if not self.f and not self.g:\n",
    "            return ' '\n",
    "        elif not self.f:\n",
    "            return f'{self.g}'\n",
    "        elif not self.g:\n",
    "            return f'{self.f}'\n",
    "        elif self.f and self.g:\n",
    "            return f'{self.f} {self.g}'\n",
    "        \n",
    "    \n",
    "class multipleG(G):\n",
    "    def __init__(self, op, fchild, gchild):\n",
    "        super().__init__(fchild, gchild)\n",
    "        self.op = op\n",
    "        \n",
    "    def __repr__(self):\n",
    "#         print('multipleG=', self.op, self.f, self.g)\n",
    "#         return ''#self.f + self.g\n",
    "        return f'{self.op} {self.f} {self.g}'"
   ]
  },
  {
   "cell_type": "code",
   "execution_count": 61,
   "id": "73525ea3",
   "metadata": {},
   "outputs": [],
   "source": [
    "def takeS(tokens): \n",
    "    t,tokens = takeT(tokens) \n",
    "    u,tokens = takeU(tokens)\n",
    "    return S(t, u),tokens\n",
    "    \n",
    "def takeT(tokens):\n",
    "    f,tokens = takeF(tokens)\n",
    "    g,tokens = takeG(tokens)\n",
    "    return T(f, g), tokens\n",
    "    \n",
    "def takeU(tokens):\n",
    "    if len(tokens)>0 and tokens[0] == '+':\n",
    "        op, tokens = takeIt('+',tokens)\n",
    "        t,tokens = takeT(tokens)\n",
    "        u,tokens = takeU(tokens)\n",
    "        return PositiveU('+', t, u),tokens\n",
    "    else: \n",
    "        return U(None,None), tokens \n",
    "\n",
    "def takeIt(tokenType, tokens):\n",
    "    if len(tokens)>0 and tokens[0]== tokenType:\n",
    "        op = tokens.pop(0)\n",
    "        return op,tokens\n",
    "    \n",
    "def takeF(tokens): \n",
    "    if len(tokens)>0 and tokens[0] == '-':\n",
    "        op, tokens = takeIt('-', tokens)\n",
    "        f,tokens = takeF(tokens)\n",
    "        return signF(op, f, None),tokens\n",
    "    \n",
    "    elif len(tokens)>0 and tokens[0] == '(':\n",
    "        op, tokens = takeIt('(',tokens)\n",
    "        s,tokens = takeS(tokens)\n",
    "        op2, tokens = takeIt(')',tokens)\n",
    "        return signF(op, s, op2), tokens\n",
    "    \n",
    "    else: # C\n",
    "        num, tokens = takeIt(tokens[0],tokens)\n",
    "        return numF(num), tokens\n",
    "\n",
    "def takeG(tokens):\n",
    "    if len(tokens)>0 and tokens[0] == '*':\n",
    "        op, tokens = takeIt('*',tokens)\n",
    "        f,tokens = takeF(tokens)\n",
    "        g,tokens = takeG(tokens)\n",
    "        return multipleG(op, f, g), tokens\n",
    "#     elif len(tokens)>0 and tokens[0] == ')':\n",
    "#         op, tokens = takeIt(')',tokens)\n",
    "#         return G(None,None), tokens\n",
    "    else:\n",
    "        return G(None,None), tokens\n",
    "    \n",
    "def tokenize(expStr):\n",
    "    import re\n",
    "    RE = re.compile(r'(?:(?<=[^\\d\\.])(?=\\d)|(?=[^\\d\\.]))', re.MULTILINE)\n",
    "    result = [x for x in re.sub(RE, \" \", expStr).split(\" \") if x]\n",
    "     \n",
    "    return result"
   ]
  },
  {
   "cell_type": "code",
   "execution_count": 62,
   "id": "4c38ac90",
   "metadata": {
    "scrolled": true
   },
   "outputs": [
    {
     "name": "stdout",
     "output_type": "stream",
     "text": [
      "-3*x+(7*21)\n"
     ]
    },
    {
     "data": {
      "text/plain": [
       "- 3 * x   + ( 7 * 21     )    "
      ]
     },
     "execution_count": 62,
     "metadata": {},
     "output_type": "execute_result"
    }
   ],
   "source": [
    "input1='-3*x+(7*21)'\n",
    "print(input1)\n",
    "\n",
    "stmt, _ = takeS(tokenize(input1))\n",
    "stmt"
   ]
  },
  {
   "cell_type": "code",
   "execution_count": 285,
   "id": "47ce67bb",
   "metadata": {},
   "outputs": [
    {
     "data": {
      "text/plain": [
       "')'"
      ]
     },
     "execution_count": 285,
     "metadata": {},
     "output_type": "execute_result"
    }
   ],
   "source": [
    "stmt[0].u.t.f.sign2"
   ]
  }
 ],
 "metadata": {
  "kernelspec": {
   "display_name": "Python 3 (ipykernel)",
   "language": "python",
   "name": "python3"
  },
  "language_info": {
   "codemirror_mode": {
    "name": "ipython",
    "version": 3
   },
   "file_extension": ".py",
   "mimetype": "text/x-python",
   "name": "python",
   "nbconvert_exporter": "python",
   "pygments_lexer": "ipython3",
   "version": "3.9.7"
  }
 },
 "nbformat": 4,
 "nbformat_minor": 5
}
